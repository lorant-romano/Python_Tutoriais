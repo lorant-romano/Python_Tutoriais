{
 "cells": [
  {
   "attachments": {},
   "cell_type": "markdown",
   "metadata": {},
   "source": [
    "# Otimização Pandas"
   ]
  },
  {
   "cell_type": "code",
   "execution_count": 21,
   "metadata": {},
   "outputs": [],
   "source": [
    "# importando libs necessarias\n",
    "import pandas as pd\n",
    "import numpy as np"
   ]
  },
  {
   "cell_type": "code",
   "execution_count": 22,
   "metadata": {},
   "outputs": [],
   "source": [
    "# Função que mede o uso de memória de cada coluna e do df\n",
    "def memory(df):\n",
    "    memStats = df.memory_usage()\n",
    "    print(\"Consumo de cada coluna em bytes:\")\n",
    "    print(memStats)\n",
    "    print(\"Consumo do DataFrame em bytes:%d bytes\"%(memStats.sum()))\n",
    "    print(\"Consumo do DataFrame em megabytes(MB): %2.2f MB\"%(memStats/1024 ** 2).sum())\n",
    "    return memStats.sum()"
   ]
  },
  {
   "cell_type": "code",
   "execution_count": 23,
   "metadata": {},
   "outputs": [],
   "source": [
    "# importando aquivo csv com o pandas\n",
    "df = pd.read_csv('SP_poluicao_dados.csv')"
   ]
  },
  {
   "cell_type": "code",
   "execution_count": 24,
   "metadata": {},
   "outputs": [],
   "source": [
    "# excluindo colunas duplicatadas\n",
    "df.drop(['Unnamed: 0','ID'], axis=1, inplace=True)"
   ]
  },
  {
   "cell_type": "code",
   "execution_count": 25,
   "metadata": {},
   "outputs": [
    {
     "data": {
      "text/html": [
       "<div>\n",
       "<style scoped>\n",
       "    .dataframe tbody tr th:only-of-type {\n",
       "        vertical-align: middle;\n",
       "    }\n",
       "\n",
       "    .dataframe tbody tr th {\n",
       "        vertical-align: top;\n",
       "    }\n",
       "\n",
       "    .dataframe thead th {\n",
       "        text-align: right;\n",
       "    }\n",
       "</style>\n",
       "<table border=\"1\" class=\"dataframe\">\n",
       "  <thead>\n",
       "    <tr style=\"text-align: right;\">\n",
       "      <th></th>\n",
       "      <th>Data</th>\n",
       "      <th>Hora</th>\n",
       "      <th>Estacao</th>\n",
       "      <th>Codigo</th>\n",
       "      <th>Poluente</th>\n",
       "      <th>Valor</th>\n",
       "      <th>Unidade</th>\n",
       "      <th>Tipo</th>\n",
       "    </tr>\n",
       "  </thead>\n",
       "  <tbody>\n",
       "    <tr>\n",
       "      <th>0</th>\n",
       "      <td>2015-01-01</td>\n",
       "      <td>01:00</td>\n",
       "      <td>Americana - Vila Santa Maria</td>\n",
       "      <td>SP01</td>\n",
       "      <td>MP10</td>\n",
       "      <td>65.0</td>\n",
       "      <td>ug/m3</td>\n",
       "      <td>automatica</td>\n",
       "    </tr>\n",
       "    <tr>\n",
       "      <th>1</th>\n",
       "      <td>2015-01-01</td>\n",
       "      <td>02:00</td>\n",
       "      <td>Americana - Vila Santa Maria</td>\n",
       "      <td>SP01</td>\n",
       "      <td>MP10</td>\n",
       "      <td>98.0</td>\n",
       "      <td>ug/m3</td>\n",
       "      <td>automatica</td>\n",
       "    </tr>\n",
       "    <tr>\n",
       "      <th>2</th>\n",
       "      <td>2015-01-01</td>\n",
       "      <td>03:00</td>\n",
       "      <td>Americana - Vila Santa Maria</td>\n",
       "      <td>SP01</td>\n",
       "      <td>MP10</td>\n",
       "      <td>79.0</td>\n",
       "      <td>ug/m3</td>\n",
       "      <td>automatica</td>\n",
       "    </tr>\n",
       "    <tr>\n",
       "      <th>3</th>\n",
       "      <td>2015-01-01</td>\n",
       "      <td>04:00</td>\n",
       "      <td>Americana - Vila Santa Maria</td>\n",
       "      <td>SP01</td>\n",
       "      <td>MP10</td>\n",
       "      <td>53.0</td>\n",
       "      <td>ug/m3</td>\n",
       "      <td>automatica</td>\n",
       "    </tr>\n",
       "    <tr>\n",
       "      <th>4</th>\n",
       "      <td>2015-01-01</td>\n",
       "      <td>05:00</td>\n",
       "      <td>Americana - Vila Santa Maria</td>\n",
       "      <td>SP01</td>\n",
       "      <td>MP10</td>\n",
       "      <td>35.0</td>\n",
       "      <td>ug/m3</td>\n",
       "      <td>automatica</td>\n",
       "    </tr>\n",
       "  </tbody>\n",
       "</table>\n",
       "</div>"
      ],
      "text/plain": [
       "         Data   Hora                       Estacao Codigo Poluente  Valor  \\\n",
       "0  2015-01-01  01:00  Americana - Vila Santa Maria   SP01     MP10   65.0   \n",
       "1  2015-01-01  02:00  Americana - Vila Santa Maria   SP01     MP10   98.0   \n",
       "2  2015-01-01  03:00  Americana - Vila Santa Maria   SP01     MP10   79.0   \n",
       "3  2015-01-01  04:00  Americana - Vila Santa Maria   SP01     MP10   53.0   \n",
       "4  2015-01-01  05:00  Americana - Vila Santa Maria   SP01     MP10   35.0   \n",
       "\n",
       "  Unidade        Tipo  \n",
       "0   ug/m3  automatica  \n",
       "1   ug/m3  automatica  \n",
       "2   ug/m3  automatica  \n",
       "3   ug/m3  automatica  \n",
       "4   ug/m3  automatica  "
      ]
     },
     "execution_count": 25,
     "metadata": {},
     "output_type": "execute_result"
    }
   ],
   "source": [
    "# verificando as 5 primeiras linhas do DataFrame\n",
    "df.head()"
   ]
  },
  {
   "cell_type": "code",
   "execution_count": 26,
   "metadata": {},
   "outputs": [
    {
     "name": "stdout",
     "output_type": "stream",
     "text": [
      "Consumo de cada coluna em bytes:\n",
      "Index            128\n",
      "Data        87844120\n",
      "Hora        87844120\n",
      "Estacao     87844120\n",
      "Codigo      87844120\n",
      "Poluente    87844120\n",
      "Valor       87844120\n",
      "Unidade     87844120\n",
      "Tipo        87844120\n",
      "dtype: int64\n",
      "Consumo do DataFrame em bytes:702753088 bytes\n",
      "Consumo do DataFrame em megabytes(MB): 670.20 MB\n"
     ]
    }
   ],
   "source": [
    "#Verificando o consumo de memória do DF sem alterações\n",
    "m1 = memory(df)"
   ]
  },
  {
   "cell_type": "markdown",
   "metadata": {},
   "source": [
    "Pode-se verificar que o DF está usando cerca de 670 MB de memoria, vamos tentar diminuir utilizando tecnicas simples."
   ]
  },
  {
   "cell_type": "markdown",
   "metadata": {},
   "source": [
    "## Regras de Otimização\n",
    "https://wiki.c2.com/?RulesOfOptimizationClub\n",
    " 1. You do not optimize.\n",
    " 2. You do not optimize, without measuring first.\n",
    " 3. When the performance is not bound by the code, but by external factors, the optimization is over.\n",
    " 4. Only optimize code that already has full unit test coverage.\n",
    " 5. One factor at a time.\n",
    " 6. No unresolved bugs, no schedule pressure.\n",
    " 7. Testing will go on as long as it has to.\n",
    " 8. If this is your first night at Optimization Club, you have to write a test case."
   ]
  },
  {
   "cell_type": "code",
   "execution_count": 27,
   "metadata": {},
   "outputs": [
    {
     "name": "stdout",
     "output_type": "stream",
     "text": [
      "<class 'pandas.core.frame.DataFrame'>\n",
      "RangeIndex: 10980515 entries, 0 to 10980514\n",
      "Data columns (total 8 columns):\n",
      " #   Column    Dtype  \n",
      "---  ------    -----  \n",
      " 0   Data      object \n",
      " 1   Hora      object \n",
      " 2   Estacao   object \n",
      " 3   Codigo    object \n",
      " 4   Poluente  object \n",
      " 5   Valor     float64\n",
      " 6   Unidade   object \n",
      " 7   Tipo      object \n",
      "dtypes: float64(1), object(7)\n",
      "memory usage: 670.2+ MB\n"
     ]
    }
   ],
   "source": [
    "#Verificando o tipo de cada coluna\n",
    "df.info()"
   ]
  },
  {
   "cell_type": "code",
   "execution_count": 28,
   "metadata": {},
   "outputs": [
    {
     "name": "stdout",
     "output_type": "stream",
     "text": [
      "Numero de unicos 87, equivale a 0.0007923% dos valores\n"
     ]
    }
   ],
   "source": [
    "print(f'Numero de unicos {df[\"Estacao\"].nunique()}, equivale a {(df[\"Estacao\"].nunique() / len(df)) * 100 :.7f}% dos valores')\n",
    "# Regra de ouro, caso os valores únicos sejam menos de 50% da quantidade de observações, transforma-se em category"
   ]
  },
  {
   "cell_type": "code",
   "execution_count": 29,
   "metadata": {},
   "outputs": [],
   "source": [
    "#Transformando o tipo para 'Category'\n",
    "df['Estacao'] = df['Estacao'].astype('category')"
   ]
  },
  {
   "cell_type": "code",
   "execution_count": 30,
   "metadata": {},
   "outputs": [
    {
     "name": "stdout",
     "output_type": "stream",
     "text": [
      "Consumo de cada coluna em bytes:\n",
      "Index            128\n",
      "Data        87844120\n",
      "Hora        87844120\n",
      "Estacao     10983315\n",
      "Codigo      87844120\n",
      "Poluente    87844120\n",
      "Valor       87844120\n",
      "Unidade     87844120\n",
      "Tipo        87844120\n",
      "dtype: int64\n",
      "Consumo do DataFrame em bytes:625892283 bytes\n",
      "Consumo do DataFrame em megabytes(MB): 596.90 MB\n",
      "73.30 MB\n",
      "10.94%\n"
     ]
    }
   ],
   "source": [
    "#Verificando a quatidade de memória economizada\n",
    "m2 = memory(df)\n",
    "print(f'{(m1 - m2) / (1024 ** 2):.2f} MB')\n",
    "print(f'{(m1-m2)/m1*100:.2f}%')"
   ]
  },
  {
   "attachments": {},
   "cell_type": "markdown",
   "metadata": {},
   "source": [
    "### Apenas com uma alteração, diminuimos o uso de memória em mais **10%!!!**"
   ]
  },
  {
   "cell_type": "code",
   "execution_count": 31,
   "metadata": {},
   "outputs": [
    {
     "name": "stdout",
     "output_type": "stream",
     "text": [
      "Codigo\n",
      "Numero de unicos 87, 0.0007923%\n",
      "------------\n",
      "Poluente\n",
      "Numero de unicos 9, 0.0000820%\n",
      "------------\n",
      "Unidade\n",
      "Numero de unicos 1, 0.0000091%\n",
      "------------\n",
      "Tipo\n",
      "Numero de unicos 2, 0.0000182%\n",
      "------------\n"
     ]
    }
   ],
   "source": [
    "# Vamos repetir para as demais colunas que podem ser categóricas\n",
    "for coluna in ['Codigo','Poluente','Unidade','Tipo']:\n",
    "    print(coluna)\n",
    "    print(f'Numero de unicos {df[coluna].nunique()}, {(df[coluna].nunique() / len(df)) * 100 :.7f}%')\n",
    "    print('------------')"
   ]
  },
  {
   "attachments": {},
   "cell_type": "markdown",
   "metadata": {},
   "source": [
    "#### Nenhuma coluna tem mais de 50% de valores únicos, portanto, podemos aplicar a mesma técnica e economizar ainda mais"
   ]
  },
  {
   "cell_type": "code",
   "execution_count": 32,
   "metadata": {},
   "outputs": [
    {
     "name": "stdout",
     "output_type": "stream",
     "text": [
      "Consumo de cada coluna em bytes:\n",
      "Index            128\n",
      "Data        87844120\n",
      "Hora        87844120\n",
      "Estacao     10983315\n",
      "Codigo      10983315\n",
      "Poluente    10980887\n",
      "Valor       87844120\n",
      "Unidade     10980631\n",
      "Tipo        10980639\n",
      "dtype: int64\n",
      "Consumo do DataFrame em bytes:318441275 bytes\n",
      "Consumo do DataFrame em megabytes(MB): 303.69 MB\n"
     ]
    }
   ],
   "source": [
    "## Aplicando a mesma transformação para as demais colunas e verificando a quantidade de memória\n",
    "for coluna in ['Codigo','Poluente','Unidade','Tipo']:\n",
    "    df[coluna] = df[coluna].astype('category')\n",
    "\n",
    "m3 = memory(df)"
   ]
  },
  {
   "cell_type": "code",
   "execution_count": 33,
   "metadata": {},
   "outputs": [
    {
     "name": "stdout",
     "output_type": "stream",
     "text": [
      "Consumo de cada coluna em bytes:\n",
      "Index            128\n",
      "Data        87844120\n",
      "Hora        87844120\n",
      "Estacao     10983315\n",
      "Codigo      10983315\n",
      "Poluente    10980887\n",
      "Valor       43922060\n",
      "Unidade     10980631\n",
      "Tipo        10980639\n",
      "dtype: int64\n",
      "Consumo do DataFrame em bytes:274519215 bytes\n",
      "Consumo do DataFrame em megabytes(MB): 261.80 MB\n"
     ]
    }
   ],
   "source": [
    "# Precisamos tomar um cuidado extra com o tipo float, transformando de float64 para float32, diminuímos a precisão dos valores (nesse caso, as casas após a virgula)\n",
    "df['Valor'] = df['Valor'].astype('float32')\n",
    "m4 = memory(df)"
   ]
  },
  {
   "cell_type": "code",
   "execution_count": 34,
   "metadata": {},
   "outputs": [
    {
     "data": {
      "text/plain": [
       "count     10980515\n",
       "unique          24\n",
       "top          17:00\n",
       "freq        469259\n",
       "Name: Hora, dtype: object"
      ]
     },
     "execution_count": 34,
     "metadata": {},
     "output_type": "execute_result"
    }
   ],
   "source": [
    "# Percebemos que os campos de data e hora também podem ser convertidos para categorias\n",
    "df['Data'].describe()\n",
    "df['Hora'].describe()"
   ]
  },
  {
   "cell_type": "code",
   "execution_count": 35,
   "metadata": {},
   "outputs": [
    {
     "name": "stdout",
     "output_type": "stream",
     "text": [
      "Consumo de cada coluna em bytes:\n",
      "Index            128\n",
      "Data        22047574\n",
      "Hora        10981263\n",
      "Estacao     10983315\n",
      "Codigo      10983315\n",
      "Poluente    10980887\n",
      "Valor       43922060\n",
      "Unidade     10980631\n",
      "Tipo        10980639\n",
      "dtype: int64\n",
      "Consumo do DataFrame em bytes:131859812 bytes\n",
      "Consumo do DataFrame em megabytes(MB): 125.75 MB\n"
     ]
    }
   ],
   "source": [
    "# Transformando e medindo\n",
    "df['Data'] = df['Data'].astype('category')\n",
    "df['Hora'] = df['Hora'].astype('category')\n",
    "m5 = memory(df)"
   ]
  },
  {
   "cell_type": "code",
   "execution_count": 36,
   "metadata": {},
   "outputs": [
    {
     "name": "stdout",
     "output_type": "stream",
     "text": [
      "Inicial: 670.20 MB\n",
      "Final: 125.75 MB\n",
      "Diferença: 544.45 MB\n",
      "Diminuição de 81.24%\n",
      "M6 enquivale a 18.76% do M1\n"
     ]
    }
   ],
   "source": [
    "# Comparações finais\n",
    "print(f'Inicial: {m1 / (1024 ** 2):.2f} MB')\n",
    "print(f'Final: {m5 / (1024 ** 2):.2f} MB')\n",
    "print(f'Diferença: {(m1 - m5) / (1024 ** 2):.2f} MB')\n",
    "print(f'Diminuição de {(m1-m5)/m1*100:.2f}%')\n",
    "print(f'M6 equivale a {m5/m1*100:.2f}% do M1')"
   ]
  },
  {
   "attachments": {},
   "cell_type": "markdown",
   "metadata": {},
   "source": [
    "### Em poucas linhas de código e em apenas alguns minutos, pudemos diminuir a quantidade de memória utilizada em **5X!!!**"
   ]
  }
 ],
 "metadata": {
  "kernelspec": {
   "display_name": "Python 3",
   "language": "python",
   "name": "python3"
  },
  "language_info": {
   "codemirror_mode": {
    "name": "ipython",
    "version": 3
   },
   "file_extension": ".py",
   "mimetype": "text/x-python",
   "name": "python",
   "nbconvert_exporter": "python",
   "pygments_lexer": "ipython3",
   "version": "3.10.6"
  },
  "orig_nbformat": 4,
  "vscode": {
   "interpreter": {
    "hash": "916dbcbb3f70747c44a77c7bcd40155683ae19c65e1c03b4aa3499c5328201f1"
   }
  }
 },
 "nbformat": 4,
 "nbformat_minor": 2
}
